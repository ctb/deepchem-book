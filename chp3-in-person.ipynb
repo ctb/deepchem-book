{
 "cells": [
  {
   "cell_type": "markdown",
   "metadata": {},
   "source": [
    "## figure out what python interpreter we're using!"
   ]
  },
  {
   "cell_type": "code",
   "execution_count": 1,
   "metadata": {},
   "outputs": [
    {
     "data": {
      "text/plain": [
       "'/Users/t/miniconda3/envs/deepchem/bin/python'"
      ]
     },
     "execution_count": 1,
     "metadata": {},
     "output_type": "execute_result"
    }
   ],
   "source": [
    "import sys\n",
    "sys.executable"
   ]
  },
  {
   "cell_type": "markdown",
   "metadata": {},
   "source": [
    "## import the deepchem package"
   ]
  },
  {
   "cell_type": "code",
   "execution_count": 2,
   "metadata": {},
   "outputs": [
    {
     "name": "stderr",
     "output_type": "stream",
     "text": [
      "/Users/t/miniconda3/envs/deepchem/lib/python2.7/site-packages/sklearn/ensemble/weight_boosting.py:29: DeprecationWarning: numpy.core.umath_tests is an internal NumPy module and should not be imported. It will be removed in a future NumPy release.\n",
      "  from numpy.core.umath_tests import inner1d\n"
     ]
    }
   ],
   "source": [
    "import deepchem"
   ]
  },
  {
   "cell_type": "code",
   "execution_count": 3,
   "metadata": {},
   "outputs": [],
   "source": [
    "import deepchem as dc\n",
    "import numpy as np"
   ]
  },
  {
   "cell_type": "code",
   "execution_count": 4,
   "metadata": {},
   "outputs": [],
   "source": [
    "x = np.random.random((4, 5))\n",
    "y = np.random.random((4, 1))"
   ]
  },
  {
   "cell_type": "code",
   "execution_count": 5,
   "metadata": {},
   "outputs": [],
   "source": [
    "dataset = dc.data.NumpyDataset(x, y)"
   ]
  },
  {
   "cell_type": "code",
   "execution_count": 6,
   "metadata": {},
   "outputs": [
    {
     "name": "stdout",
     "output_type": "stream",
     "text": [
      "[[0.6250064  0.52161498 0.18906039 0.50223102 0.99218686]\n",
      " [0.62883743 0.84585718 0.10659265 0.18139691 0.4332577 ]\n",
      " [0.70047656 0.08372012 0.33341726 0.51379063 0.38800355]\n",
      " [0.88272982 0.46556773 0.18703224 0.41570784 0.34654327]]\n"
     ]
    }
   ],
   "source": [
    "print(dataset.X)"
   ]
  },
  {
   "cell_type": "code",
   "execution_count": 8,
   "metadata": {},
   "outputs": [
    {
     "name": "stdout",
     "output_type": "stream",
     "text": [
      "[[0.35733986]\n",
      " [0.1030221 ]\n",
      " [0.72971561]\n",
      " [0.32522437]]\n"
     ]
    }
   ],
   "source": [
    "print(dataset.y)"
   ]
  },
  {
   "cell_type": "code",
   "execution_count": 10,
   "metadata": {},
   "outputs": [],
   "source": [
    "## load in a toxicity data set"
   ]
  },
  {
   "cell_type": "code",
   "execution_count": 9,
   "metadata": {},
   "outputs": [
    {
     "name": "stdout",
     "output_type": "stream",
     "text": [
      "Loading raw samples now.\n",
      "shard_size: 8192\n",
      "About to start loading CSV from /var/folders/y6/s1r3q87933s6gjdrtmts1npc0000gq/T/tox21.csv.gz\n",
      "Loading shard 1 of size 8192.\n",
      "Featurizing sample 0\n",
      "Featurizing sample 1000\n",
      "Featurizing sample 2000\n",
      "Featurizing sample 3000\n",
      "Featurizing sample 4000\n",
      "Featurizing sample 5000\n",
      "Featurizing sample 6000\n",
      "Featurizing sample 7000\n",
      "TIMING: featurizing shard 0 took 83.346 s\n",
      "TIMING: dataset construction took 84.835 s\n",
      "Loading dataset from disk.\n",
      "TIMING: dataset construction took 2.820 s\n",
      "Loading dataset from disk.\n",
      "TIMING: dataset construction took 2.317 s\n",
      "Loading dataset from disk.\n",
      "TIMING: dataset construction took 1.066 s\n",
      "Loading dataset from disk.\n",
      "TIMING: dataset construction took 1.409 s\n",
      "Loading dataset from disk.\n"
     ]
    }
   ],
   "source": [
    "tox21_tasks, tox21_datasets, transformers = dc.molnet.load_tox21(reload=False)"
   ]
  },
  {
   "cell_type": "code",
   "execution_count": 11,
   "metadata": {},
   "outputs": [
    {
     "data": {
      "text/plain": [
       "[u'NR-AR',\n",
       " u'NR-AR-LBD',\n",
       " u'NR-AhR',\n",
       " u'NR-Aromatase',\n",
       " u'NR-ER',\n",
       " u'NR-ER-LBD',\n",
       " u'NR-PPAR-gamma',\n",
       " u'SR-ARE',\n",
       " u'SR-ATAD5',\n",
       " u'SR-HSE',\n",
       " u'SR-MMP',\n",
       " u'SR-p53']"
      ]
     },
     "execution_count": 11,
     "metadata": {},
     "output_type": "execute_result"
    }
   ],
   "source": [
    "tox21_tasks"
   ]
  },
  {
   "cell_type": "code",
   "execution_count": 12,
   "metadata": {},
   "outputs": [
    {
     "data": {
      "text/plain": [
       "(<deepchem.data.datasets.DiskDataset at 0x10ae6ff10>,\n",
       " <deepchem.data.datasets.DiskDataset at 0x1a2d58ff10>,\n",
       " <deepchem.data.datasets.DiskDataset at 0x10ae6c150>)"
      ]
     },
     "execution_count": 12,
     "metadata": {},
     "output_type": "execute_result"
    }
   ],
   "source": [
    "tox21_datasets"
   ]
  },
  {
   "cell_type": "code",
   "execution_count": 13,
   "metadata": {},
   "outputs": [],
   "source": [
    "train_dataset, valid_dataset, test_dataset = tox21_datasets"
   ]
  },
  {
   "cell_type": "code",
   "execution_count": 14,
   "metadata": {},
   "outputs": [
    {
     "data": {
      "text/plain": [
       "(6264, 1024)"
      ]
     },
     "execution_count": 14,
     "metadata": {},
     "output_type": "execute_result"
    }
   ],
   "source": [
    "train_dataset.X.shape"
   ]
  },
  {
   "cell_type": "code",
   "execution_count": 18,
   "metadata": {},
   "outputs": [
    {
     "data": {
      "text/plain": [
       "(6264, 12)"
      ]
     },
     "execution_count": 18,
     "metadata": {},
     "output_type": "execute_result"
    }
   ],
   "source": [
    "train_dataset.y.shape"
   ]
  },
  {
   "cell_type": "code",
   "execution_count": 16,
   "metadata": {},
   "outputs": [
    {
     "data": {
      "text/plain": [
       "(783, 1024)"
      ]
     },
     "execution_count": 16,
     "metadata": {},
     "output_type": "execute_result"
    }
   ],
   "source": [
    "valid_dataset.X.shape"
   ]
  },
  {
   "cell_type": "code",
   "execution_count": 17,
   "metadata": {},
   "outputs": [
    {
     "data": {
      "text/plain": [
       "(783, 12)"
      ]
     },
     "execution_count": 17,
     "metadata": {},
     "output_type": "execute_result"
    }
   ],
   "source": [
    "valid_dataset.y.shape"
   ]
  },
  {
   "cell_type": "code",
   "execution_count": 19,
   "metadata": {},
   "outputs": [
    {
     "data": {
      "text/plain": [
       "(784, 1024)"
      ]
     },
     "execution_count": 19,
     "metadata": {},
     "output_type": "execute_result"
    }
   ],
   "source": [
    "test_dataset.X.shape"
   ]
  },
  {
   "cell_type": "code",
   "execution_count": 20,
   "metadata": {},
   "outputs": [
    {
     "data": {
      "text/plain": [
       "(784, 12)"
      ]
     },
     "execution_count": 20,
     "metadata": {},
     "output_type": "execute_result"
    }
   ],
   "source": [
    "test_dataset.y.shape"
   ]
  },
  {
   "cell_type": "code",
   "execution_count": 21,
   "metadata": {},
   "outputs": [
    {
     "data": {
      "text/plain": [
       "(6264, 12)"
      ]
     },
     "execution_count": 21,
     "metadata": {},
     "output_type": "execute_result"
    }
   ],
   "source": [
    "train_dataset.w.shape"
   ]
  },
  {
   "cell_type": "markdown",
   "metadata": {},
   "source": [
    "## weights ignore zero entries"
   ]
  },
  {
   "cell_type": "code",
   "execution_count": 23,
   "metadata": {},
   "outputs": [
    {
     "data": {
      "text/plain": [
       "(6264, 12)"
      ]
     },
     "execution_count": 23,
     "metadata": {},
     "output_type": "execute_result"
    }
   ],
   "source": [
    "train_dataset.w.shape"
   ]
  },
  {
   "cell_type": "code",
   "execution_count": 24,
   "metadata": {},
   "outputs": [
    {
     "data": {
      "text/plain": [
       "62166"
      ]
     },
     "execution_count": 24,
     "metadata": {},
     "output_type": "execute_result"
    }
   ],
   "source": [
    "np.count_nonzero(train_dataset.w)"
   ]
  },
  {
   "cell_type": "code",
   "execution_count": 25,
   "metadata": {},
   "outputs": [
    {
     "data": {
      "text/plain": [
       "75168"
      ]
     },
     "execution_count": 25,
     "metadata": {},
     "output_type": "execute_result"
    }
   ],
   "source": [
    "6264*12"
   ]
  },
  {
   "cell_type": "markdown",
   "metadata": {},
   "source": [
    "## OK so what does a Transformer do"
   ]
  },
  {
   "cell_type": "code",
   "execution_count": 26,
   "metadata": {},
   "outputs": [
    {
     "data": {
      "text/plain": [
       "(6264, 1024)"
      ]
     },
     "execution_count": 26,
     "metadata": {},
     "output_type": "execute_result"
    }
   ],
   "source": [
    "train_dataset.X.shape"
   ]
  },
  {
   "cell_type": "code",
   "execution_count": 27,
   "metadata": {},
   "outputs": [
    {
     "data": {
      "text/plain": [
       "184664"
      ]
     },
     "execution_count": 27,
     "metadata": {},
     "output_type": "execute_result"
    }
   ],
   "source": [
    "np.count_nonzero(train_dataset.X)"
   ]
  },
  {
   "cell_type": "code",
   "execution_count": 31,
   "metadata": {},
   "outputs": [
    {
     "data": {
      "text/plain": [
       "6229672"
      ]
     },
     "execution_count": 31,
     "metadata": {},
     "output_type": "execute_result"
    }
   ],
   "source": [
    "np.count_nonzero(train_dataset.X == 0)"
   ]
  },
  {
   "cell_type": "code",
   "execution_count": 29,
   "metadata": {},
   "outputs": [
    {
     "data": {
      "text/plain": [
       "6229672"
      ]
     },
     "execution_count": 29,
     "metadata": {},
     "output_type": "execute_result"
    }
   ],
   "source": [
    "6264*1024 - 184664"
   ]
  },
  {
   "cell_type": "code",
   "execution_count": 22,
   "metadata": {},
   "outputs": [
    {
     "data": {
      "text/plain": [
       "[<deepchem.trans.transformers.BalancingTransformer at 0x10b07f7d0>]"
      ]
     },
     "execution_count": 22,
     "metadata": {},
     "output_type": "execute_result"
    }
   ],
   "source": [
    "transformers"
   ]
  },
  {
   "cell_type": "markdown",
   "metadata": {},
   "source": [
    "so, what's going on here is that (without a transformer) our objective function is going to prioritize the trivially 90% \"correct\" thing of saying, most ... well, let's just say we think the book is confusing and we will move on for now."
   ]
  },
  {
   "cell_type": "markdown",
   "metadata": {},
   "source": [
    "(Titus question: what's the difference between weighting and balancing transformers?)"
   ]
  },
  {
   "cell_type": "code",
   "execution_count": 35,
   "metadata": {},
   "outputs": [],
   "source": [
    "#dc.trans.transformers.BalancingTransformer??"
   ]
  },
  {
   "cell_type": "code",
   "execution_count": 36,
   "metadata": {},
   "outputs": [],
   "source": [
    "model = dc.models.MultitaskClassifier(n_tasks=12,\n",
    "                                      n_features=1024,\n",
    "                                      layer_sizes=[1000])"
   ]
  },
  {
   "cell_type": "code",
   "execution_count": 37,
   "metadata": {},
   "outputs": [
    {
     "data": {
      "text/plain": [
       "866.282998608786"
      ]
     },
     "execution_count": 37,
     "metadata": {},
     "output_type": "execute_result"
    }
   ],
   "source": [
    "model.fit(train_dataset, nb_epoch=10)"
   ]
  },
  {
   "cell_type": "markdown",
   "metadata": {},
   "source": [
    "(here there is some question over batch size, and what exactly epoch means.)"
   ]
  },
  {
   "cell_type": "code",
   "execution_count": 38,
   "metadata": {},
   "outputs": [],
   "source": [
    "metric = dc.metrics.Metric(dc.metrics.roc_auc_score, np.mean)"
   ]
  },
  {
   "cell_type": "code",
   "execution_count": 39,
   "metadata": {},
   "outputs": [
    {
     "name": "stdout",
     "output_type": "stream",
     "text": [
      "computed_metrics: [0.9904099710348984, 0.9960189868336544, 0.9601443886324939, 0.9805511014958632, 0.9004765229340514, 0.9842199148597459, 0.9911510618994931, 0.9099619224557087, 0.9873910796684366, 0.9721128324341204, 0.9469964504422851, 0.9744951613805448]\n",
      "computed_metrics: [0.7903707802988379, 0.8595515090204013, 0.899861392472545, 0.8046891354406531, 0.7103204862851042, 0.7991324657991326, 0.7232704402515724, 0.7198543995672557, 0.8610148767067454, 0.7181938035596571, 0.8638385433987362, 0.7871858832224685]\n"
     ]
    }
   ],
   "source": [
    "train_scores = model.evaluate(train_dataset, [metric], transformers)\n",
    "test_scores = model.evaluate(test_dataset, [metric], transformers)"
   ]
  },
  {
   "cell_type": "code",
   "execution_count": 40,
   "metadata": {},
   "outputs": [
    {
     "name": "stdout",
     "output_type": "stream",
     "text": [
      "{'mean-roc_auc_score': 0.9661607828392746}\n",
      "{'mean-roc_auc_score': 0.7947736430019258}\n"
     ]
    }
   ],
   "source": [
    "print(train_scores)\n",
    "print(test_scores)"
   ]
  },
  {
   "cell_type": "markdown",
   "metadata": {},
   "source": [
    "Luiz made a more complicated model with 3 layers, and it got worse."
   ]
  },
  {
   "cell_type": "code",
   "execution_count": 42,
   "metadata": {},
   "outputs": [
    {
     "name": "stdout",
     "output_type": "stream",
     "text": [
      "computed_metrics: [0.9293118029060556, 0.9691403741168915, 0.8425281397055282, 0.8948347135078729, 0.7562060647701794, 0.8937324549247028, 0.9069461606592419, 0.7915720586143122, 0.916733799405636, 0.8168919036136217, 0.86342208271813, 0.8953717066621916]\n",
      "computed_metrics: [0.7187603763143331, 0.8733771707975047, 0.8396844013221025, 0.7833368222733933, 0.6836750255996862, 0.8220887554220888, 0.8171135385633896, 0.7195839343671115, 0.8515046532164934, 0.678930454845089, 0.8105046558031261, 0.7979028085735402]\n",
      "{'mean-roc_auc_score': 0.873057605133697}\n",
      "{'mean-roc_auc_score': 0.7830385497581549}\n"
     ]
    }
   ],
   "source": [
    "luiz_model = dc.models.MultitaskClassifier(n_tasks=12,\n",
    "                                      n_features=1024,\n",
    "                                      layer_sizes=[1000, 1000, 1000])\n",
    "luiz_model.fit(train_dataset, nb_epoch=10)\n",
    "\n",
    "luiz_train_scores = luiz_model.evaluate(train_dataset, [metric], transformers)\n",
    "luiz_test_scores = luiz_model.evaluate(test_dataset, [metric], transformers)\n",
    "\n",
    "print(luiz_train_scores)\n",
    "print(luiz_test_scores)"
   ]
  },
  {
   "cell_type": "code",
   "execution_count": 43,
   "metadata": {},
   "outputs": [
    {
     "name": "stdout",
     "output_type": "stream",
     "text": [
      "computed_metrics: [0.9924242537235517, 0.9973948298008992, 0.967072011581688, 0.9858192082837229, 0.9123408357990626, 0.9872467290649496, 0.9930207264905495, 0.9230685479484153, 0.9892058385473577, 0.9772881355932204, 0.9555313302940376, 0.9790770263467025]\n",
      "computed_metrics: [0.7784910533111973, 0.8280222559433484, 0.8886874933361766, 0.8018630939920453, 0.7100154687465958, 0.790256923590257, 0.6840450182058921, 0.682710512080779, 0.8621696895591331, 0.6843688200395517, 0.8594321582973063, 0.7391444937176643]\n",
      "{'mean-roc_auc_score': 0.971624122789513}\n",
      "{'mean-roc_auc_score': 0.7757672484016621}\n"
     ]
    }
   ],
   "source": [
    "luiz_model = dc.models.MultitaskClassifier(n_tasks=12,\n",
    "                                      n_features=1024,\n",
    "                                      layer_sizes=[3000])\n",
    "luiz_model.fit(train_dataset, nb_epoch=10)\n",
    "\n",
    "luiz_train_scores = luiz_model.evaluate(train_dataset, [metric], transformers)\n",
    "luiz_test_scores = luiz_model.evaluate(test_dataset, [metric], transformers)\n",
    "\n",
    "print(luiz_train_scores)\n",
    "print(luiz_test_scores)"
   ]
  },
  {
   "cell_type": "code",
   "execution_count": 44,
   "metadata": {},
   "outputs": [
    {
     "name": "stdout",
     "output_type": "stream",
     "text": [
      "computed_metrics: [0.9843643263898625, 0.9956035244059087, 0.9488229025897311, 0.9727965782628722, 0.8286630391820059, 0.9677049797809665, 0.9922332867599748, 0.840584804130786, 0.9829446594238707, 0.9400770258314106, 0.9242386271794905, 0.9659797505174247]\n",
      "computed_metrics: [0.7528131341080981, 0.8679817905918057, 0.8793901268791982, 0.8326878794222315, 0.7091657770321793, 0.8368034701368035, 0.7831016219794771, 0.7399815182113234, 0.8936213572447524, 0.6746044825313118, 0.867974725640173, 0.7912509238728751]\n",
      "{'mean-roc_auc_score': 0.9453344587045254}\n",
      "{'mean-roc_auc_score': 0.8024480673041857}\n"
     ]
    }
   ],
   "source": [
    "luiz_model = dc.models.MultitaskClassifier(n_tasks=12,\n",
    "                                      n_features=1024,\n",
    "                                      layer_sizes=[1000, 1000, 1000])\n",
    "luiz_model.fit(train_dataset, nb_epoch=20)\n",
    "\n",
    "luiz_train_scores = luiz_model.evaluate(train_dataset, [metric], transformers)\n",
    "luiz_test_scores = luiz_model.evaluate(test_dataset, [metric], transformers)\n",
    "\n",
    "print(luiz_train_scores)\n",
    "print(luiz_test_scores)"
   ]
  },
  {
   "cell_type": "code",
   "execution_count": null,
   "metadata": {},
   "outputs": [],
   "source": []
  }
 ],
 "metadata": {
  "kernelspec": {
   "display_name": "Python 3/Deepchem",
   "language": "python",
   "name": "deepchem"
  },
  "language_info": {
   "codemirror_mode": {
    "name": "ipython",
    "version": 2
   },
   "file_extension": ".py",
   "mimetype": "text/x-python",
   "name": "python",
   "nbconvert_exporter": "python",
   "pygments_lexer": "ipython2",
   "version": "2.7.15"
  }
 },
 "nbformat": 4,
 "nbformat_minor": 2
}
